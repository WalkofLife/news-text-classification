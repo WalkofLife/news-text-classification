{
 "cells": [
  {
   "cell_type": "markdown",
   "metadata": {},
   "source": [
    "# Import Libraries"
   ]
  },
  {
   "cell_type": "code",
   "execution_count": 13,
   "metadata": {
    "ExecuteTime": {
     "end_time": "2021-06-23T11:09:38.674987Z",
     "start_time": "2021-06-23T11:08:39.919886Z"
    }
   },
   "outputs": [],
   "source": [
    "# For Data\n",
    "\n",
    "import json\n",
    "import pandas as pd\n",
    "import numpy as np\n",
    "\n",
    "# For Plotting\n",
    "import matplotlib.pyplot as plt\n",
    "import seaborn as sns\n",
    "\n",
    "# For Processing\n",
    "import re\n",
    "import nltk\n",
    "\n",
    "# For Bag-of-words\n",
    "from sklearn import feature_extraction, model_selection, naive_bayes, pipeline, manifold, preprocessing\n",
    "\n",
    "# For Explainer\n",
    "from lime import lime_text\n",
    "\n",
    "# For Word Embedding\n",
    "import gensim\n",
    "import gensim.downloader as gensim_api\n",
    "\n",
    "# For Deep Learning\n",
    "from tensorflow.keras import models, layers, preprocessing as kprocessing\n",
    "from tensorflow.keras import backend as K\n",
    "\n",
    "# For BERT language Model\n",
    "import transformers"
   ]
  },
  {
   "cell_type": "markdown",
   "metadata": {},
   "source": [
    "# Data\n",
    "\n",
    "The dataset is contained into json file, so I will first read it into a list of dictionaries with json and then transform it into a pandas Dataframe"
   ]
  },
  {
   "cell_type": "code",
   "execution_count": 18,
   "metadata": {
    "ExecuteTime": {
     "end_time": "2021-06-23T11:12:57.699750Z",
     "start_time": "2021-06-23T11:12:56.412145Z"
    }
   },
   "outputs": [
    {
     "data": {
      "text/plain": [
       "{'category': 'CRIME',\n",
       " 'headline': 'There Were 2 Mass Shootings In Texas Last Week, But Only 1 On TV',\n",
       " 'authors': 'Melissa Jeltsen',\n",
       " 'link': 'https://www.huffingtonpost.com/entry/texas-amanda-painter-mass-shooting_us_5b081ab4e4b0802d69caad89',\n",
       " 'short_description': 'She left her husband. He killed their children. Just another day in America.',\n",
       " 'date': '2018-05-26'}"
      ]
     },
     "execution_count": 18,
     "metadata": {},
     "output_type": "execute_result"
    }
   ],
   "source": [
    "list_dics = []\n",
    "with open('News_Category_Dataset_v2.json', mode = 'r', errors = 'ignore') as json_file:\n",
    "    for dic in json_file:\n",
    "        list_dics.append(json.loads(dic))\n",
    "        \n",
    "# Print the first one\n",
    "list_dics[0]\n"
   ]
  },
  {
   "cell_type": "markdown",
   "metadata": {},
   "source": [
    "The original dataset contains over 30 categories, but for the purpose lets use 3"
   ]
  },
  {
   "cell_type": "code",
   "execution_count": 22,
   "metadata": {
    "ExecuteTime": {
     "end_time": "2021-06-23T11:49:30.548764Z",
     "start_time": "2021-06-23T11:49:30.142923Z"
    }
   },
   "outputs": [
    {
     "data": {
      "text/html": [
       "<div>\n",
       "<style scoped>\n",
       "    .dataframe tbody tr th:only-of-type {\n",
       "        vertical-align: middle;\n",
       "    }\n",
       "\n",
       "    .dataframe tbody tr th {\n",
       "        vertical-align: top;\n",
       "    }\n",
       "\n",
       "    .dataframe thead th {\n",
       "        text-align: right;\n",
       "    }\n",
       "</style>\n",
       "<table border=\"1\" class=\"dataframe\">\n",
       "  <thead>\n",
       "    <tr style=\"text-align: right;\">\n",
       "      <th></th>\n",
       "      <th>category</th>\n",
       "      <th>headline</th>\n",
       "    </tr>\n",
       "  </thead>\n",
       "  <tbody>\n",
       "    <tr>\n",
       "      <th>1</th>\n",
       "      <td>ENTERTAINMENT</td>\n",
       "      <td>Will Smith Joins Diplo And Nicky Jam For The 2...</td>\n",
       "    </tr>\n",
       "    <tr>\n",
       "      <th>2</th>\n",
       "      <td>ENTERTAINMENT</td>\n",
       "      <td>Hugh Grant Marries For The First Time At Age 57</td>\n",
       "    </tr>\n",
       "    <tr>\n",
       "      <th>3</th>\n",
       "      <td>ENTERTAINMENT</td>\n",
       "      <td>Jim Carrey Blasts 'Castrato' Adam Schiff And D...</td>\n",
       "    </tr>\n",
       "    <tr>\n",
       "      <th>4</th>\n",
       "      <td>ENTERTAINMENT</td>\n",
       "      <td>Julianna Margulies Uses Donald Trump Poop Bags...</td>\n",
       "    </tr>\n",
       "    <tr>\n",
       "      <th>5</th>\n",
       "      <td>ENTERTAINMENT</td>\n",
       "      <td>Morgan Freeman 'Devastated' That Sexual Harass...</td>\n",
       "    </tr>\n",
       "    <tr>\n",
       "      <th>...</th>\n",
       "      <td>...</td>\n",
       "      <td>...</td>\n",
       "    </tr>\n",
       "    <tr>\n",
       "      <th>200844</th>\n",
       "      <td>TECH</td>\n",
       "      <td>Google+ Now Open for Teens With Some Safeguards</td>\n",
       "    </tr>\n",
       "    <tr>\n",
       "      <th>200845</th>\n",
       "      <td>TECH</td>\n",
       "      <td>Web Wars</td>\n",
       "    </tr>\n",
       "    <tr>\n",
       "      <th>200846</th>\n",
       "      <td>TECH</td>\n",
       "      <td>First White House Chief Technology Officer, An...</td>\n",
       "    </tr>\n",
       "    <tr>\n",
       "      <th>200847</th>\n",
       "      <td>TECH</td>\n",
       "      <td>Watch The Top 9 YouTube Videos Of The Week</td>\n",
       "    </tr>\n",
       "    <tr>\n",
       "      <th>200848</th>\n",
       "      <td>TECH</td>\n",
       "      <td>RIM CEO Thorsten Heins' 'Significant' Plans Fo...</td>\n",
       "    </tr>\n",
       "  </tbody>\n",
       "</table>\n",
       "<p>50879 rows × 2 columns</p>\n",
       "</div>"
      ],
      "text/plain": [
       "             category                                           headline\n",
       "1       ENTERTAINMENT  Will Smith Joins Diplo And Nicky Jam For The 2...\n",
       "2       ENTERTAINMENT    Hugh Grant Marries For The First Time At Age 57\n",
       "3       ENTERTAINMENT  Jim Carrey Blasts 'Castrato' Adam Schiff And D...\n",
       "4       ENTERTAINMENT  Julianna Margulies Uses Donald Trump Poop Bags...\n",
       "5       ENTERTAINMENT  Morgan Freeman 'Devastated' That Sexual Harass...\n",
       "...               ...                                                ...\n",
       "200844           TECH    Google+ Now Open for Teens With Some Safeguards\n",
       "200845           TECH                                           Web Wars\n",
       "200846           TECH  First White House Chief Technology Officer, An...\n",
       "200847           TECH         Watch The Top 9 YouTube Videos Of The Week\n",
       "200848           TECH  RIM CEO Thorsten Heins' 'Significant' Plans Fo...\n",
       "\n",
       "[50879 rows x 2 columns]"
      ]
     },
     "execution_count": 22,
     "metadata": {},
     "output_type": "execute_result"
    }
   ],
   "source": [
    "# DataFrame\n",
    "dtf = pd.DataFrame(list_dics)\n",
    "\n",
    "# Filter categories\n",
    "dtf = dtf[dtf['category'].isin(['ENTERTAINMENT', 'POLITICS', 'TECH'])][['category', 'headline']]\n",
    "dtf"
   ]
  },
  {
   "cell_type": "code",
   "execution_count": 23,
   "metadata": {
    "ExecuteTime": {
     "end_time": "2021-06-23T11:50:15.128219Z",
     "start_time": "2021-06-23T11:50:15.112188Z"
    }
   },
   "outputs": [],
   "source": [
    "# Rename columns\n",
    "dtf = dtf.rename(columns = {\"category\" : 'y', 'headline': 'text'})"
   ]
  },
  {
   "cell_type": "markdown",
   "metadata": {},
   "source": [
    " univariate distribution of the target by showing labels frequency with a bar plot"
   ]
  },
  {
   "cell_type": "code",
   "execution_count": null,
   "metadata": {},
   "outputs": [],
   "source": [
    "fig, ax  = plt.subplots()\n",
    "fig.suptitle('y', fontsize = 12)\n",
    "dtf['y'].reset_index().grou"
   ]
  }
 ],
 "metadata": {
  "kernelspec": {
   "display_name": "Python 3",
   "language": "python",
   "name": "python3"
  },
  "language_info": {
   "codemirror_mode": {
    "name": "ipython",
    "version": 3
   },
   "file_extension": ".py",
   "mimetype": "text/x-python",
   "name": "python",
   "nbconvert_exporter": "python",
   "pygments_lexer": "ipython3",
   "version": "3.8.5"
  },
  "toc": {
   "base_numbering": 1,
   "nav_menu": {},
   "number_sections": true,
   "sideBar": true,
   "skip_h1_title": false,
   "title_cell": "Table of Contents",
   "title_sidebar": "Contents",
   "toc_cell": false,
   "toc_position": {},
   "toc_section_display": true,
   "toc_window_display": false
  }
 },
 "nbformat": 4,
 "nbformat_minor": 4
}
